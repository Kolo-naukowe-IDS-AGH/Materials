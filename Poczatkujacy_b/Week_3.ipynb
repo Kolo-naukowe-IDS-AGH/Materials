{
 "cells": [
  {
   "cell_type": "code",
   "execution_count": 1,
   "metadata": {},
   "outputs": [],
   "source": [
    "import pandas as pd\n",
    "import numpy as np\n",
    "import matplotlib.pyplot as plt"
   ]
  },
  {
   "cell_type": "code",
   "execution_count": 2,
   "metadata": {},
   "outputs": [
    {
     "data": {
      "text/html": [
       "<div>\n",
       "<style scoped>\n",
       "    .dataframe tbody tr th:only-of-type {\n",
       "        vertical-align: middle;\n",
       "    }\n",
       "\n",
       "    .dataframe tbody tr th {\n",
       "        vertical-align: top;\n",
       "    }\n",
       "\n",
       "    .dataframe thead th {\n",
       "        text-align: right;\n",
       "    }\n",
       "</style>\n",
       "<table border=\"1\" class=\"dataframe\">\n",
       "  <thead>\n",
       "    <tr style=\"text-align: right;\">\n",
       "      <th></th>\n",
       "      <th>Wynik 1 egzaminu</th>\n",
       "      <th>Wynik 2 egzaminu</th>\n",
       "      <th>Czy przyjęty</th>\n",
       "    </tr>\n",
       "  </thead>\n",
       "  <tbody>\n",
       "    <tr>\n",
       "      <th>0</th>\n",
       "      <td>34.623660</td>\n",
       "      <td>78.024693</td>\n",
       "      <td>0</td>\n",
       "    </tr>\n",
       "    <tr>\n",
       "      <th>1</th>\n",
       "      <td>30.286711</td>\n",
       "      <td>43.894998</td>\n",
       "      <td>0</td>\n",
       "    </tr>\n",
       "    <tr>\n",
       "      <th>2</th>\n",
       "      <td>35.847409</td>\n",
       "      <td>72.902198</td>\n",
       "      <td>0</td>\n",
       "    </tr>\n",
       "    <tr>\n",
       "      <th>3</th>\n",
       "      <td>60.182599</td>\n",
       "      <td>86.308552</td>\n",
       "      <td>1</td>\n",
       "    </tr>\n",
       "    <tr>\n",
       "      <th>4</th>\n",
       "      <td>79.032736</td>\n",
       "      <td>75.344376</td>\n",
       "      <td>1</td>\n",
       "    </tr>\n",
       "  </tbody>\n",
       "</table>\n",
       "</div>"
      ],
      "text/plain": [
       "   Wynik 1 egzaminu  Wynik 2 egzaminu  Czy przyjęty\n",
       "0         34.623660         78.024693             0\n",
       "1         30.286711         43.894998             0\n",
       "2         35.847409         72.902198             0\n",
       "3         60.182599         86.308552             1\n",
       "4         79.032736         75.344376             1"
      ]
     },
     "execution_count": 2,
     "metadata": {},
     "output_type": "execute_result"
    }
   ],
   "source": [
    "data = pd.read_csv('ex2data1.txt', header=None)\n",
    "data.columns = ['Wynik 1 egzaminu', 'Wynik 2 egzaminu', 'Czy przyjęty']\n",
    "data.head()"
   ]
  },
  {
   "cell_type": "code",
   "execution_count": 3,
   "metadata": {},
   "outputs": [
    {
     "data": {
      "text/plain": [
       "<matplotlib.legend.Legend at 0x2b7f12fbcd0>"
      ]
     },
     "execution_count": 3,
     "metadata": {},
     "output_type": "execute_result"
    },
    {
     "data": {
      "image/png": "[encoded data removed]",
      "text/plain": [
       "<Figure size 576x360 with 1 Axes>"
      ]
     },
     "metadata": {
      "needs_background": "light"
     },
     "output_type": "display_data"
    }
   ],
   "source": [
    "x1 = data['Wynik 1 egzaminu'].values\n",
    "x2 = data['Wynik 2 egzaminu'].values\n",
    "y = data['Czy przyjęty'].values\n",
    "n = y.shape[0]\n",
    "x1 = x1.reshape(n, 1)\n",
    "x2 = x2.reshape(n, 1)\n",
    "y = y.reshape(n, 1)\n",
    "\n",
    "adm = data[data['Czy przyjęty'] == 1]\n",
    "x1_adm = adm['Wynik 1 egzaminu'].values\n",
    "x2_adm = adm['Wynik 2 egzaminu'].values\n",
    "not_adm = data[data['Czy przyjęty'] == 0]\n",
    "x1_nadm = not_adm['Wynik 1 egzaminu'].values\n",
    "x2_nadm = not_adm['Wynik 2 egzaminu'].values\n",
    "\n",
    "plt.figure(figsize=(8, 5))\n",
    "plt.plot(x1_adm, x2_adm, 'rx', label='przyjęty')\n",
    "plt.plot(x1_nadm, x2_nadm, 'bo', label='nieprzyjęty')\n",
    "plt.grid()\n",
    "plt.xlabel('Wynik 1 egzaminu (w %)')\n",
    "plt.ylabel('Wynik 2 egzaminu (w %)')\n",
    "plt.legend()"
   ]
  },
  {
   "cell_type": "code",
   "execution_count": 4,
   "metadata": {},
   "outputs": [],
   "source": [
    "# funkcja sigmoid\n",
    "sigmoid = lambda z: 1 / (1 + np.exp(-z))\n",
    "\n",
    "# Funkcja kosztu\n",
    "def J (x, y, theta):\n",
    "    m = y.shape[0]\n",
    "    h = sigmoid(x @ theta)\n",
    "    return 1/m * np.sum(-y*np.log(h) - (1 - y)*np.log(1 - h))\n",
    "\n",
    "# Metoda gradientu sprzężonego\n",
    "def grad_des(x, y, init_theta, alpha, it): \n",
    "    m = y.shape[0]\n",
    "    n = init_theta.shape[0]\n",
    "    Js = [J(x, y, init_theta)]\n",
    "    theta = init_theta.copy()   # Nie chcemy, aby theta początkowe ulegało zmianie\n",
    "    for i in range(it):\n",
    "        h = sigmoid(x @ theta)\n",
    "        for j in range(n):\n",
    "            theta[j] -= alpha/m * np.sum((h - y) * x[:, [j]])\n",
    "        Js.append(J(x, y, theta))\n",
    "    return theta, Js"
   ]
  },
  {
   "cell_type": "code",
   "execution_count": 5,
   "metadata": {},
   "outputs": [
    {
     "data": {
      "text/plain": [
       "(0.20416128092026029,\n",
       " array([[-23.12353639],\n",
       "        [  0.18993761],\n",
       "        [  0.18497899]]))"
      ]
     },
     "execution_count": 5,
     "metadata": {},
     "output_type": "execute_result"
    }
   ],
   "source": [
    "X = np.concatenate((np.ones(shape=(n, 1)), x1, x2), axis=1) # łączymy z jedynkami\n",
    "init_theta = np.zeros(shape=(3, 1))\n",
    "iterations = int(5e6)\n",
    "\n",
    "theta, Js = grad_des(X, y, init_theta, alpha=1e-3, it=iterations)\n",
    "Js[-1], theta"
   ]
  },
  {
   "cell_type": "code",
   "execution_count": 6,
   "metadata": {},
   "outputs": [
    {
     "data": {
      "text/plain": [
       "<matplotlib.legend.Legend at 0x2b7fb6ca940>"
      ]
     },
     "execution_count": 6,
     "metadata": {},
     "output_type": "execute_result"
    },
    {
     "data": {
      "image/png": "[encoded data removed]",
      "text/plain": [
       "<Figure size 576x360 with 1 Axes>"
      ]
     },
     "metadata": {
      "needs_background": "light"
     },
     "output_type": "display_data"
    }
   ],
   "source": [
    "domain = [min(x1), max(x1)]\n",
    "log_reg1 = lambda x1: (-1 / theta[2]) * (theta[1] * x1 + theta[0])\n",
    "\n",
    "\n",
    "plt.figure(figsize=(8, 5))\n",
    "plt.plot(domain, log_reg1(domain), 'y--', label='granica decyzji')\n",
    "plt.plot(x1_adm, x2_adm, 'rx', label='przyjęty')\n",
    "plt.plot(x1_nadm, x2_nadm, 'bo', label='nieprzyjęty')\n",
    "plt.grid()\n",
    "plt.xlabel('Wynik 1 egzaminu')\n",
    "plt.ylabel('Wynik 2 egzaminu')\n",
    "plt.legend()\n"
   ]
  },
  {
   "cell_type": "code",
   "execution_count": 37,
   "metadata": {},
   "outputs": [
    {
     "name": "stdout",
     "output_type": "stream",
     "text": [
      "Prawdopodbieństwo dostania się do uczelni:\n",
      "37 %\n"
     ]
    }
   ],
   "source": [
    "exam1, exam2 = 80, 40   # Wyniki z egzaminów\n",
    "\n",
    "results = np.array([[1], [exam1], [exam2]])\n",
    "prediction = sigmoid(theta.T @ results)\n",
    "print(\"Prawdopodbieństwo dostania się na uczelnię:\\n{} %\".format(int(100 * prediction)))"
   ]
  },
  {
   "cell_type": "code",
   "execution_count": null,
   "metadata": {},
   "outputs": [],
   "source": [
    "# Regularyzacja - MATLAB"
   ]
  }
 ],
 "metadata": {
  "kernelspec": {
   "display_name": "Python 3",
   "language": "python",
   "name": "python3"
  },
  "language_info": {
   "codemirror_mode": {
    "name": "ipython",
    "version": 3
   },
   "file_extension": ".py",
   "mimetype": "text/x-python",
   "name": "python",
   "nbconvert_exporter": "python",
   "pygments_lexer": "ipython3",
   "version": "3.8.5"
  }
 },
 "nbformat": 4,
 "nbformat_minor": 2
}
